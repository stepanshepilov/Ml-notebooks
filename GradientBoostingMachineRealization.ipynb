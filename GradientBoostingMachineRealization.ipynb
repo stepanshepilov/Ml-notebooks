{
 "cells": [
  {
   "cell_type": "markdown",
   "id": "209d8bb7-3d47-4d87-883c-5ec33d823396",
   "metadata": {},
   "source": [
    "# Импорты библиотек"
   ]
  },
  {
   "cell_type": "code",
   "execution_count": 1,
   "id": "b8be6239-86a5-4487-b746-27f7a0abb094",
   "metadata": {},
   "outputs": [],
   "source": [
    "import numpy as np\n",
    "import pandas as pd\n",
    "import matplotlib.pyplot as plt\n",
    "from sklearn.datasets import load_diabetes\n",
    "from sklearn.preprocessing import LabelEncoder\n",
    "from sklearn.model_selection import train_test_split\n",
    "from sklearn.metrics import accuracy_score, mean_absolute_percentage_error\n",
    "from sklearn.tree import DecisionTreeRegressor\n",
    "from sklearn.ensemble import GradientBoostingClassifier, GradientBoostingRegressor\n",
    "from sklearn.ensemble import HistGradientBoostingClassifier, HistGradientBoostingRegressor\n",
    "from matplotlib.colors import ListedColormap\n",
    "import matplotlib.pyplot as plt"
   ]
  },
  {
   "cell_type": "markdown",
   "id": "6aa22544-175a-49ad-878b-fa44d10da4ac",
   "metadata": {},
   "source": [
    "# Градиентный бустинг над решающими деревьями для классификации"
   ]
  },
  {
   "cell_type": "code",
   "execution_count": 2,
   "id": "f3d382da-7b2c-4676-82f2-83356b879a78",
   "metadata": {},
   "outputs": [],
   "source": [
    "class GradientBoostingMachineClassifier:\n",
    "    '''Метод-конструктор класса с базовыми начальными параметрами градиентного бустинга'''\n",
    "    def __init__(self, learning_rate=0.025, n_estimators=1_000, logitboost=False, max_depth=8, random_state=69):\n",
    "        self.learning_rate = learning_rate\n",
    "        self.n_estimators = n_estimators\n",
    "        self.logitboost = logitboost\n",
    "        self.max_depth = max_depth\n",
    "        self.random_state = random_state\n",
    "\n",
    "    '''Метод, который вычисляет вероятности для каждого класса'''\n",
    "    def _softmax(self, predictions):\n",
    "        exp = np.exp(predictions)\n",
    "        return exp / np.sum(exp, axis=1, keepdims=True)\n",
    "\n",
    "    '''Метод для вычисления значений гамма для каждого листа дерева с использованием остатков'''\n",
    "    def _compute_gammas(self, residuals, leaf_indexes, eps=1e-4):\n",
    "        gammas = []\n",
    "        for j in np.unique(leaf_indexes):\n",
    "            x_i = np.where(leaf_indexes == j)\n",
    "            numerator = np.sum(residuals[x_i])\n",
    "            norm_residuals = np.linalg.norm(residuals[x_i]) + eps\n",
    "            denominator = np.sum(norm_residuals*(1-norm_residuals))\n",
    "            gamma = (self.K - 1)/self.K*numerator/denominator\n",
    "            gammas.append(gamma)\n",
    "        return gammas\n",
    "\n",
    "    '''Метод для обучения модели'''\n",
    "    def fit(self, X, y):\n",
    "        self.feature_names = X.columns if hasattr(X, 'columns') else [f'Feature {i}' for i in range(X.shape[1])]\n",
    "        self.K = len(np.unique(y))\n",
    "        self.trees = {k: [] for k in range(self.K)}\n",
    "        one_hot_y = pd.get_dummies(y).to_numpy()\n",
    "        predictions = np.zeros(one_hot_y.shape)\n",
    "\n",
    "        for _ in range(self.n_estimators):\n",
    "            probabilities = self._softmax(predictions)\n",
    "            for k in range(self.K):\n",
    "                if self.logitboost:\n",
    "                    numerator = (one_hot_y.T[k] - probabilities.T[k])\n",
    "                    denominator = (probabilities.T[k]*(1-probabilities.T[k]))\n",
    "                    residuals = (self.K-1).self.K*numerator/denominator\n",
    "                    weight = denominator\n",
    "                else:\n",
    "                    residuals = one_hot_y.T[k] - probabilities.T[k]\n",
    "                    weights = None\n",
    "\n",
    "                tree = DecisionTreeRegressor(criterion='friedman_mse', max_depth=self.max_depth, random_state=self.random_state)\n",
    "                tree.fit(X, residuals, sample_weight=weights)\n",
    "                self.trees[k].append(tree)\n",
    "\n",
    "                leaf_indexes = tree.apply(X)\n",
    "                gammas = [] if self.logitboost else self._compute_gammas(residuals, leaf_indexes)\n",
    "                predictions.T[k] += self.learning_rate*tree.predict(X) + np.sum(gammas)\n",
    "\n",
    "    '''Метод для предсказания'''\n",
    "    def predict(self, test):\n",
    "        predictions = np.zeros((len(test), self.K))\n",
    "        for i in range(self.n_estimators):\n",
    "            for k in range(self.K):\n",
    "                predictions.T[k] += self.learning_rate*self.trees[k][i].predict(test)\n",
    "        return np.argmax(predictions, axis=1)\n",
    "\n",
    "\n",
    "    '''Метод для отрисовки границ принятия решений для двумерных данных'''\n",
    "    def plot_decision_boundaries(self, X, y):\n",
    "        x_min, x_max = X[:, 0].min() - 1, X[:, 0].max() + 1\n",
    "        y_min, y_max = X[:, 1].min() - 1, X[:, 1].max() + 1\n",
    "        xx, yy = np.meshgrid(np.arange(x_min, x_max, 0.01),\n",
    "                             np.arange(y_min, y_max, 0.01))\n",
    "        Z = self.predict(np.c_[xx.ravel(), yy.ravel()])\n",
    "        Z = Z.reshape(xx.shape)\n",
    "        plt.contourf(xx, yy, Z, alpha=0.8, cmap=ListedColormap(('red', 'green', 'blue')))\n",
    "        plt.scatter(X[:, 0], X[:, 1], c=y, edgecolor='k', marker='o', s=20, cmap=ListedColormap(('red', 'green', 'blue')))\n",
    "        plt.xlim(xx.min(), xx.max())\n",
    "        plt.ylim(yy.min(), yy.max())\n",
    "        plt.title('Decision Boundaries')\n",
    "        plt.show()\n",
    "\n",
    "    '''Метод который выводит важность признаков для заранее обученной модели'''\n",
    "    def plot_feature_importance(self):\n",
    "        feature_importances = np.zeros(self.trees[0][0].n_features_in_)\n",
    "        for k in range(self.K):\n",
    "            for tree in self.trees[k]:\n",
    "                feature_importances += tree.feature_importances_\n",
    "        feature_importances /= self.n_estimators * self.K\n",
    "\n",
    "        sorted_idx = np.argsort(feature_importances)\n",
    "        sorted_importances = feature_importances[sorted_idx]\n",
    "        sorted_feature_names = np.array(self.feature_names)[sorted_idx]\n",
    "\n",
    "        plt.figure(figsize=(10, 6))\n",
    "        bars = plt.barh(sorted_feature_names, sorted_importances, color=plt.cm.viridis(np.linspace(0, 1, len(sorted_importances))))\n",
    "        plt.xlabel('Importance')\n",
    "        plt.ylabel('Feature')\n",
    "        plt.title('Feature Importance')\n",
    "        plt.show()"
   ]
  },
  {
   "cell_type": "code",
   "execution_count": 3,
   "id": "828a932e-1e70-43d9-980d-437fef18de89",
   "metadata": {},
   "outputs": [],
   "source": [
    "class GradientBoostingMachineRegressor:\n",
    "    '''Метод-конструктор класса с базовыми параметрами для бустинга'''\n",
    "    def __init__(self, n_estimators=1_000, learning_rate=0.025, max_depth=8, random_state=69):\n",
    "        self.n_estimators = n_estimators\n",
    "        self.learning_rate = learning_rate\n",
    "        self.max_depth = max_depth\n",
    "        self.random_state = random_state\n",
    "        self.trees = []\n",
    "\n",
    "    '''Метод для обучения бустинга'''\n",
    "    def fit(self, X, y):\n",
    "        self.feature_names = X.columns if hasattr(X, 'columns') else [f'Feature {i}' for i in range(X.shape[1])]\n",
    "        self.initial_leaf = y.mean()\n",
    "        predictions = np.zeros(len(y)) + self.initial_leaf\n",
    "\n",
    "        for _ in range(self.n_estimators):\n",
    "            residuals = y - predictions\n",
    "            tree = DecisionTreeRegressor(max_depth=self.max_depth, criterion='friedman_mse', random_state=self.random_state)\n",
    "            tree.fit(X, residuals)\n",
    "            predictions += tree.predict(X) * self.learning_rate\n",
    "            self.trees.append(tree)\n",
    "\n",
    "    '''Метод для предсказания'''\n",
    "    def predict(self, test):\n",
    "        predictions = np.zeros(len(test)) + self.initial_leaf\n",
    "\n",
    "        for i in range(self.n_estimators):\n",
    "            predictions += self.learning_rate * self.trees[i].predict(test)\n",
    "\n",
    "        return predictions\n",
    "\n",
    "    '''Метод, который выводит важность признаков для обученной модели'''\n",
    "    def plot_feature_importance(self):\n",
    "        feature_importances = np.zeros(self.trees[0].n_features_in_)\n",
    "        for tree in self.trees:\n",
    "            feature_importances += tree.feature_importances_\n",
    "        feature_importances /= self.n_estimators\n",
    "\n",
    "        sorted_idx = np.argsort(feature_importances)\n",
    "        sorted_importances = feature_importances[sorted_idx]\n",
    "        sorted_feature_names = np.array(self.feature_names)[sorted_idx]\n",
    "\n",
    "        plt.figure(figsize=(24, 14))\n",
    "        bars = plt.barh(sorted_feature_names, sorted_importances, color=plt.cm.viridis(np.linspace(0, 1, len(sorted_importances))))\n",
    "        plt.xlabel('Importance')\n",
    "        plt.ylabel('Feature')\n",
    "        plt.title('Feature Importance')\n",
    "        plt.show()"
   ]
  },
  {
   "cell_type": "markdown",
   "id": "f7272ad3-2115-4407-ab64-bdae92875e3e",
   "metadata": {},
   "source": [
    "# Пример использования"
   ]
  },
  {
   "cell_type": "code",
   "execution_count": 4,
   "id": "21b7ca46-0acd-4338-8d11-47a6ec613f79",
   "metadata": {},
   "outputs": [],
   "source": [
    "# Загрузим данные и сделать тренировочную и тестовую выборки\n",
    "X, y = load_diabetes(return_X_y=True, as_frame=True)\n",
    "X_train, X_test, y_train, y_test = train_test_split(X, y, random_state=69, test_size=0.2)"
   ]
  },
  {
   "cell_type": "code",
   "execution_count": 5,
   "id": "5416b75e-e1eb-42d0-981d-10150289ae5f",
   "metadata": {},
   "outputs": [],
   "source": [
    "# Определим модель и зададим ей начальный параметр количество деревьев\n",
    "gbm_reg = GradientBoostingMachineRegressor(n_estimators=2_500)"
   ]
  },
  {
   "cell_type": "code",
   "execution_count": 6,
   "id": "b431fded-1912-415a-9b7f-19b23a07585e",
   "metadata": {},
   "outputs": [],
   "source": [
    "# Обучаем модель\n",
    "gbm_reg.fit(X_train, y_train)"
   ]
  },
  {
   "cell_type": "code",
   "execution_count": 7,
   "id": "82a7da3f-86cc-40ef-9799-f0ec39cb50e0",
   "metadata": {},
   "outputs": [
    {
     "data": {
      "text/plain": [
       "57.498052585274806"
      ]
     },
     "execution_count": 7,
     "metadata": {},
     "output_type": "execute_result"
    }
   ],
   "source": [
    "# Измерим RMSE нашей модели на тестовых данных\n",
    "from sklearn.metrics import mean_squared_error\n",
    "mean_squared_error(y_test, gbm_reg.predict(X_test), squared=False)"
   ]
  },
  {
   "cell_type": "code",
   "execution_count": 8,
   "id": "2309ad0b-f2ed-4d45-82e3-070142d8e565",
   "metadata": {},
   "outputs": [
    {
     "data": {
      "image/png": "[encoded data removed]",
      "text/plain": [
       "<Figure size 1728x1008 with 1 Axes>"
      ]
     },
     "metadata": {
      "needs_background": "light"
     },
     "output_type": "display_data"
    }
   ],
   "source": [
    "# Выведем важность фичей нашей модели\n",
    "gbm_reg.plot_feature_importance()"
   ]
  }
 ],
 "metadata": {
  "kernelspec": {
   "display_name": "Python 3 (ipykernel)",
   "language": "python",
   "name": "python3"
  },
  "language_info": {
   "codemirror_mode": {
    "name": "ipython",
    "version": 3
   },
   "file_extension": ".py",
   "mimetype": "text/x-python",
   "name": "python",
   "nbconvert_exporter": "python",
   "pygments_lexer": "ipython3",
   "version": "3.10.2"
  }
 },
 "nbformat": 4,
 "nbformat_minor": 5
}
